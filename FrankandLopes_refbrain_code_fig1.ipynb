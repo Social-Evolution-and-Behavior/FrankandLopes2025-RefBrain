{
  "cells": [
    {
      "cell_type": "markdown",
      "metadata": {
        "id": "fig1-0001",
        "language": "markdown"
      },
      "source": [
        "# Fig1 \u2014 MB tilt analysis",
        "",
        "This notebook contains the MB tilt plots used for Fig.1.",
        "",
        "Note: I replaced a corrupted file with a minimal, valid notebook so GitHub can render it. If you need the original full notebook content, restore from a previous commit or tell me and I can attempt a more complete reconstruction."
      ]
    },
    {
      "cell_type": "code",
      "execution_count": null,
      "metadata": {
        "id": "fig1-0002",
        "language": "python"
      },
      "outputs": [],
      "source": [
        "import pandas as pd",
        "import matplotlib.pyplot as plt",
        "import os",
        "",
        "# Load data (ensure the CSV exists at data/MB_Tilt_Data_102725.csv)",
        "DATA_CSV = 'data/MB_Tilt_Data_102725.csv'",
        "if os.path.exists(DATA_CSV):",
        "    df = pd.read_csv(DATA_CSV)",
        "    df.head()",
        "else:",
        "    raise FileNotFoundError(f'Please provide {DATA_CSV} in the data/ folder.')"
      ]
    },
    {
      "cell_type": "code",
      "execution_count": null,
      "metadata": {
        "id": "fig1-0003",
        "language": "python"
      },
      "outputs": [],
      "source": [
        "# Example plot: histogram of tilt values (replace 'tilt' with the real column name)",
        "if 'tilt' in df.columns:",
        "    plt.figure(figsize=(6,4))",
        "    plt.hist(df['tilt'].dropna(), bins=36)",
        "    plt.xlabel('Tilt (degrees)')",
        "    plt.ylabel('Count')",
        "    plt.title('MB tilt histogram \u2014 placeholder')",
        "    plt.tight_layout()",
        "    plt.show()",
        "else:",
        "    print('Column \"tilt\" not found in data. Columns:', list(df.columns))"
      ]
    }
  ],
  "metadata": {
    "kernelspec": {
      "display_name": "Python 3",
      "language": "python",
      "name": "python3"
    },
    "language_info": {
      "name": "python",
      "version": "3.x"
    }
  },
  "nbformat": 4,
  "nbformat_minor": 5
}