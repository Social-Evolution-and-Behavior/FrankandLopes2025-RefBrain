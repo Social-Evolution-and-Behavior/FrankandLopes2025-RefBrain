{
 "cells": [
  {
   "cell_type": "code",
   "execution_count": null,
   "id": "bc079867-7706-41d5-86c2-6e5996f6f427",
   "metadata": {},
   "outputs": [
    {
     "ename": "ModuleNotFoundError",
     "evalue": "No module named 'diptest'",
     "output_type": "error",
     "traceback": [
      "\u001b[0;31m---------------------------------------------------------------------------\u001b[0m",
      "\u001b[0;31mModuleNotFoundError\u001b[0m                       Traceback (most recent call last)",
      "Cell \u001b[0;32mIn[1], line 3\u001b[0m\n\u001b[1;32m      1\u001b[0m \u001b[38;5;28;01mimport\u001b[39;00m\u001b[38;5;250m \u001b[39m\u001b[38;5;21;01mpandas\u001b[39;00m\u001b[38;5;250m \u001b[39m\u001b[38;5;28;01mas\u001b[39;00m\u001b[38;5;250m \u001b[39m\u001b[38;5;21;01mpd\u001b[39;00m\n\u001b[1;32m      2\u001b[0m \u001b[38;5;28;01mimport\u001b[39;00m\u001b[38;5;250m \u001b[39m\u001b[38;5;21;01mmatplotlib\u001b[39;00m\u001b[38;5;21;01m.\u001b[39;00m\u001b[38;5;21;01mpyplot\u001b[39;00m\u001b[38;5;250m \u001b[39m\u001b[38;5;28;01mas\u001b[39;00m\u001b[38;5;250m \u001b[39m\u001b[38;5;21;01mplt\u001b[39;00m\n\u001b[0;32m----> 3\u001b[0m \u001b[38;5;28;01mimport\u001b[39;00m\u001b[38;5;250m \u001b[39m\u001b[38;5;21;01mdiptest\u001b[39;00m\n\u001b[1;32m      4\u001b[0m \u001b[38;5;28;01mimport\u001b[39;00m\u001b[38;5;250m \u001b[39m\u001b[38;5;21;01mnumpy\u001b[39;00m\u001b[38;5;250m \u001b[39m\u001b[38;5;28;01mas\u001b[39;00m\u001b[38;5;250m \u001b[39m\u001b[38;5;21;01mnp\u001b[39;00m\n\u001b[1;32m      5\u001b[0m \u001b[38;5;28;01mfrom\u001b[39;00m\u001b[38;5;250m \u001b[39m\u001b[38;5;21;01mscipy\u001b[39;00m\u001b[38;5;21;01m.\u001b[39;00m\u001b[38;5;21;01mstats\u001b[39;00m\u001b[38;5;250m \u001b[39m\u001b[38;5;28;01mimport\u001b[39;00m skew, kurtosis\n",
      "\u001b[0;31mModuleNotFoundError\u001b[0m: No module named 'diptest'"
     ]
    }
   ],
   "source": [
    "import os\n",
    "import pandas as pd\n",
    "import matplotlib.pyplot as plt\n",
    "import diptest\n",
    "import numpy as np\n",
    "from scipy.stats import skew, kurtosis"
   ]
  },
  {
   "cell_type": "code",
   "execution_count": null,
   "id": "b32d0222-35d8-4c78-ae3f-12b9a465d76e",
   "metadata": {},
   "outputs": [
    {
     "data": {
      "text/html": [
       "<div>\n",
       "<style scoped>\n",
       "    .dataframe tbody tr th:only-of-type {\n",
       "        vertical-align: middle;\n",
       "    }\n",
       "\n",
       "    .dataframe tbody tr th {\n",
       "        vertical-align: top;\n",
       "    }\n",
       "\n",
       "    .dataframe thead th {\n",
       "        text-align: right;\n",
       "    }\n",
       "</style>\n",
       "<table border=\"1\" class=\"dataframe\">\n",
       "  <thead>\n",
       "    <tr style=\"text-align: right;\">\n",
       "      <th></th>\n",
       "      <th>Brain Name</th>\n",
       "      <th>Correction Angle</th>\n",
       "      <th>MB Tilt Angle</th>\n",
       "      <th>Δ from horizontal</th>\n",
       "      <th>Mirrored?</th>\n",
       "      <th>Mirror Value</th>\n",
       "    </tr>\n",
       "  </thead>\n",
       "  <tbody>\n",
       "    <tr>\n",
       "      <th>0</th>\n",
       "      <td>synA647_DF_B01_mirror_resampled_0.8x0.8x0.8_de...</td>\n",
       "      <td>1.68</td>\n",
       "      <td>126.37</td>\n",
       "      <td>36.37</td>\n",
       "      <td>1</td>\n",
       "      <td>36.37</td>\n",
       "    </tr>\n",
       "    <tr>\n",
       "      <th>1</th>\n",
       "      <td>synA647_DF_B03_A_resampled_0.8x0.8x0.8_deforme...</td>\n",
       "      <td>4.26</td>\n",
       "      <td>119.12</td>\n",
       "      <td>29.12</td>\n",
       "      <td>0</td>\n",
       "      <td>-29.12</td>\n",
       "    </tr>\n",
       "    <tr>\n",
       "      <th>2</th>\n",
       "      <td>synA647_DF_B03_B_mirror_resampled_0.8x0.8x0.8_...</td>\n",
       "      <td>-1.40</td>\n",
       "      <td>116.71</td>\n",
       "      <td>26.71</td>\n",
       "      <td>1</td>\n",
       "      <td>26.71</td>\n",
       "    </tr>\n",
       "    <tr>\n",
       "      <th>3</th>\n",
       "      <td>synA647_DF_B03_D_resampled_0.8x0.8x0.8_deforme...</td>\n",
       "      <td>-1.90</td>\n",
       "      <td>101.31</td>\n",
       "      <td>11.31</td>\n",
       "      <td>0</td>\n",
       "      <td>-11.31</td>\n",
       "    </tr>\n",
       "    <tr>\n",
       "      <th>4</th>\n",
       "      <td>synA647_DF_B04_B_resampled_0.8x0.8x0.8_deforme...</td>\n",
       "      <td>-3.37</td>\n",
       "      <td>120.61</td>\n",
       "      <td>30.61</td>\n",
       "      <td>0</td>\n",
       "      <td>-30.61</td>\n",
       "    </tr>\n",
       "  </tbody>\n",
       "</table>\n",
       "</div>"
      ],
      "text/plain": [
       "                                          Brain Name  Correction Angle  \\\n",
       "0  synA647_DF_B01_mirror_resampled_0.8x0.8x0.8_de...              1.68   \n",
       "1  synA647_DF_B03_A_resampled_0.8x0.8x0.8_deforme...              4.26   \n",
       "2  synA647_DF_B03_B_mirror_resampled_0.8x0.8x0.8_...             -1.40   \n",
       "3  synA647_DF_B03_D_resampled_0.8x0.8x0.8_deforme...             -1.90   \n",
       "4  synA647_DF_B04_B_resampled_0.8x0.8x0.8_deforme...             -3.37   \n",
       "\n",
       "   MB Tilt Angle  Δ from horizontal  Mirrored?  Mirror Value  \n",
       "0         126.37              36.37          1         36.37  \n",
       "1         119.12              29.12          0        -29.12  \n",
       "2         116.71              26.71          1         26.71  \n",
       "3         101.31              11.31          0        -11.31  \n",
       "4         120.61              30.61          0        -30.61  "
      ]
     },
     "execution_count": 14,
     "metadata": {},
     "output_type": "execute_result"
    }
   ],
   "source": [
    "# Load the CSV file (we only accept CSV now)\n",
    "DATA_CSV = 'data/MB_Tilt_Data_102725.csv'\n",
    "if os.path.exists(DATA_CSV):\n",
    "    df = pd.read_csv(DATA_CSV)\n",
    "    print(f'Loaded {DATA_CSV}')\n",
    "else:\n",
    "    raise FileNotFoundError(f'Please provide {DATA_CSV} in the data/ folder.')"
   ]
  },
  {
   "cell_type": "code",
   "execution_count": null,
   "id": "afff1674-41f3-4227-8d3e-5ba2c40ebbfa",
   "metadata": {},
   "outputs": [
    {
     "name": "stdout",
     "output_type": "stream",
     "text": [
      "0     36.37\n",
      "1    -29.12\n",
      "2     26.71\n",
      "3    -11.31\n",
      "4    -30.61\n",
      "5    -28.78\n",
      "6     16.78\n",
      "7     31.02\n",
      "8     12.53\n",
      "9     33.05\n",
      "10   -26.87\n",
      "11     6.53\n",
      "12    21.49\n",
      "13   -30.44\n",
      "14   -18.20\n",
      "15    32.70\n",
      "16   -35.75\n",
      "17    23.45\n",
      "18    23.48\n",
      "19    23.84\n",
      "20    24.54\n",
      "21    -9.79\n",
      "22    31.20\n",
      "23    35.28\n",
      "24   -26.57\n",
      "25   -32.04\n",
      "26   -26.36\n",
      "27   -46.81\n",
      "28   -26.07\n",
      "29   -25.86\n",
      "30   -26.72\n",
      "31    27.65\n",
      "32    26.16\n",
      "33   -23.84\n",
      "34   -32.86\n",
      "35   -35.70\n",
      "36   -29.74\n",
      "37    -1.68\n",
      "38     7.13\n",
      "39    22.86\n",
      "Name: Mirror Value, dtype: float64\n"
     ]
    }
   ],
   "source": [
    "column = df.iloc[:, 5]  # Get all rows from the 6th column of the Excel sheet\n",
    "print(column)"
   ]
  },
  {
   "cell_type": "code",
   "execution_count": null,
   "id": "4c6f3a2d-13e0-43b8-a3e3-d1e42067644d",
   "metadata": {},
   "outputs": [],
   "source": [
    "values = column.dropna().values  # drop missing values, if any"
   ]
  },
  {
   "cell_type": "code",
   "execution_count": null,
   "id": "69a13c6b-78aa-47ea-acd5-3c620ccbb7dc",
   "metadata": {},
   "outputs": [
    {
     "data": {
      "image/png": "[encoded data removed]",
      "text/plain": [
       "<Figure size 640x480 with 1 Axes>"
      ]
     },
     "metadata": {},
     "output_type": "display_data"
    }
   ],
   "source": [
    "bin_edges = np.linspace(-50, 50, 11)  # 10 bins, so 11 edges\n",
    "code\n",
    "code\n",
    "\n",
    "1cf3142e-a6cd-4ef6-8a84-893326bd2bc0\n",
    "# (removed) Excel support dropped - use data/MB_Tilt_Data_102725.csv\n",
    "\n",
    "# Customize orientation\n",
    "ax.set_theta_zero_location(\"N\")      # 0° at the top (North)\n",
    "    # (removed) Excel support dropped - this notebook only loads the CSV in data/\n",
    "\n",
    "plt.title(\"Polar Histogram of MB Tilts\")\n",
    "plt.show()"
   ]
  },
  {
   "cell_type": "code",
   "execution_count": null,
   "id": "2e6490dc-d4d1-4915-8b91-977a38d53a07",
   "metadata": {},
   "outputs": [],
   "source": []
  }
 ],
 "metadata": {
  "kernelspec": {
   "display_name": "Python 3",
   "language": "python",
   "name": "python3"
  },
  "language_info": {
   "codemirror_mode": {
    "name": "ipython",
    "version": 3
   },
   "file_extension": ".py",
   "mimetype": "text/x-python",
   "name": "python",
   "nbconvert_exporter": "python",
   "pygments_lexer": "ipython3",
   "version": "3.9.6"
  }
 },
 "nbformat": 4,
 "nbformat_minor": 5
}
