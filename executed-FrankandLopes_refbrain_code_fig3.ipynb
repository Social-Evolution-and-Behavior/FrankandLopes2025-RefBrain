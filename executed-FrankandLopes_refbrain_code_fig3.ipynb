{
 "cells": [
  {
   "cell_type": "code",
   "execution_count": 1,
   "id": "97250031",
   "metadata": {
    "execution": {
     "iopub.execute_input": "2025-09-30T22:36:12.241711Z",
     "iopub.status.busy": "2025-09-30T22:36:12.241490Z",
     "iopub.status.idle": "2025-09-30T22:36:12.827141Z",
     "shell.execute_reply": "2025-09-30T22:36:12.826827Z"
    }
   },
   "outputs": [],
   "source": [
    "# Import statements\n",
    "\n",
    "import os\n",
    "import numpy as np\n",
    "from scipy.spatial import distance_matrix\n",
    "import glob\n",
    "import seaborn as sns\n",
    "import matplotlib.pyplot as plt\n",
    "import re\n",
    "from scipy.ndimage import distance_transform_edt\n",
    "import matplotlib.pyplot as plt\n",
    "from scipy.stats import ttest_ind\n",
    "from scipy.spatial.distance import cdist\n",
    "import pandas as pd"
   ]
  },
  {
   "cell_type": "code",
   "execution_count": 2,
   "id": "fdd23650",
   "metadata": {
    "execution": {
     "iopub.execute_input": "2025-09-30T22:36:12.828430Z",
     "iopub.status.busy": "2025-09-30T22:36:12.828337Z",
     "iopub.status.idle": "2025-09-30T22:36:12.831240Z",
     "shell.execute_reply": "2025-09-30T22:36:12.831025Z"
    }
   },
   "outputs": [],
   "source": [
    "# Functions\n",
    "\n",
    "# Ensure coordinates are in the correct shape (2D array of shape (n_points, 3))\n",
    "def load_swc_coordinates(file_path):\n",
    "    # Assuming this function loads the SWC data and returns it as a numpy array (n_points, 3)\n",
    "    # The last column might be radius, so we take only the first three columns (x, y, z)\n",
    "    data = np.loadtxt(file_path)\n",
    "    return data[:, 2:5]  # Return only the x, y, z columns\n",
    "\n",
    "def average_bidirectional_distance(A, B):\n",
    "    # Ensure that A and B are 2D arrays\n",
    "    A = np.array(A)\n",
    "    B = np.array(B)\n",
    "    \n",
    "    # Check if the coordinates are 2D arrays\n",
    "    if A.ndim != 2 or B.ndim != 2:\n",
    "        raise ValueError(\"Both A and B should be 2D arrays representing the coordinates (n_points, 3).\")\n",
    "\n",
    "    # Compute pairwise distance matrix between A and B\n",
    "    dists = cdist(A, B)\n",
    "    \n",
    "    # Average distances A->B and B->A\n",
    "    avg_a_to_b = np.mean(np.min(dists, axis=1))  # Minimum distance for each point in A to closest point in B\n",
    "    avg_b_to_a = np.mean(np.min(dists, axis=0))  # Minimum distance for each point in B to closest point in A\n",
    "    \n",
    "    return (avg_a_to_b + avg_b_to_a) / 2\n",
    "\n",
    "def compute_pairwise_distances(swc_folder):\n",
    "    swc_files = glob.glob(os.path.join(swc_folder, '*.swc'))\n",
    "    pairwise_means = []\n",
    "    \n",
    "    # Assuming you have a function to compute pairwise distances (e.g., `average_bidirectional_distance`)\n",
    "    for i, file_i in enumerate(swc_files):\n",
    "        coords_i = load_swc_coordinates(file_i)\n",
    "        for j, file_j in enumerate(swc_files[i + 1:], start=i + 1):\n",
    "            coords_j = load_swc_coordinates(file_j)\n",
    "            pairwise_means.append(average_bidirectional_distance(coords_i, coords_j))\n",
    "    \n",
    "    return pairwise_means\n"
   ]
  },
  {
   "cell_type": "code",
   "execution_count": 3,
   "id": "495fd9d5",
   "metadata": {
    "execution": {
     "iopub.execute_input": "2025-09-30T22:36:12.832352Z",
     "iopub.status.busy": "2025-09-30T22:36:12.832285Z",
     "iopub.status.idle": "2025-09-30T22:36:12.838204Z",
     "shell.execute_reply": "2025-09-30T22:36:12.837991Z"
    }
   },
   "outputs": [
    {
     "name": "stderr",
     "output_type": "stream",
     "text": [
      "/Users/lindsey/Documents/GitHub/FrankandLopes2025-RefBrain/.venv/lib/python3.9/site-packages/numpy/core/fromnumeric.py:3504: RuntimeWarning: Mean of empty slice.\n",
      "  return _methods._mean(a, axis=axis, dtype=dtype,\n",
      "/Users/lindsey/Documents/GitHub/FrankandLopes2025-RefBrain/.venv/lib/python3.9/site-packages/numpy/core/_methods.py:129: RuntimeWarning: invalid value encountered in scalar divide\n",
      "  ret = ret.dtype.type(ret / rcount)\n",
      "/Users/lindsey/Documents/GitHub/FrankandLopes2025-RefBrain/.venv/lib/python3.9/site-packages/numpy/core/_methods.py:206: RuntimeWarning: Degrees of freedom <= 0 for slice\n",
      "  ret = _var(a, axis=axis, dtype=dtype, out=out, ddof=ddof,\n",
      "/Users/lindsey/Documents/GitHub/FrankandLopes2025-RefBrain/.venv/lib/python3.9/site-packages/numpy/core/_methods.py:163: RuntimeWarning: invalid value encountered in divide\n",
      "  arrmean = um.true_divide(arrmean, div, out=arrmean,\n",
      "/Users/lindsey/Documents/GitHub/FrankandLopes2025-RefBrain/.venv/lib/python3.9/site-packages/numpy/core/_methods.py:198: RuntimeWarning: invalid value encountered in scalar divide\n",
      "  ret = ret.dtype.type(ret / rcount)\n"
     ]
    }
   ],
   "source": [
    "## Data wrangling for GABA skeletons\n",
    "\n",
    "# Load and compute pairwise distances for GABA left and right datasets affine+rigid and diffeomorphic\n",
    "left_GABA_affine_folder = 'skeletons_affine+rigid/GABA/left/'\n",
    "right_GABA_affine_folder = 'skeletons_affine+rigid/GABA/right/'\n",
    "\n",
    "left_GABA_affine_pairwise_means = compute_pairwise_distances(left_GABA_affine_folder)\n",
    "right_GABA_affine_pairwise_means = compute_pairwise_distances(right_GABA_affine_folder)\n",
    "\n",
    "left_GABA_diffeo_folder = 'skeletons_diffeomorphic/GABA/left/'\n",
    "right_GABA_diffeo_folder = 'skeletons_diffeomorphic/GABA/right/'\n",
    "\n",
    "left_GABA_diffeo_pairwise_means = compute_pairwise_distances(left_GABA_diffeo_folder)\n",
    "right_GABA_diffeo_pairwise_means = compute_pairwise_distances(right_GABA_diffeo_folder)\n",
    "\n",
    "# Calculate means and standard deviations\n",
    "mean_GABA_affine_left = np.mean(left_GABA_affine_pairwise_means)\n",
    "std_GABA_affine_left = np.std(left_GABA_affine_pairwise_means)\n",
    "\n",
    "mean_GABA_affine_right = np.mean(right_GABA_affine_pairwise_means)\n",
    "std_GABA_affine_right = np.std(right_GABA_affine_pairwise_means)\n",
    "\n",
    "mean_GABA_diffeo_left = np.mean(left_GABA_diffeo_pairwise_means)\n",
    "std_GABA_diffeo_left = np.std(left_GABA_diffeo_pairwise_means)\n",
    "\n",
    "mean_GABA_diffeo_right = np.mean(right_GABA_diffeo_pairwise_means)\n",
    "std_GABA_diffeo_right = np.std(right_GABA_diffeo_pairwise_means)\n",
    "\n",
    "# Create a DataFrame to combine both sets of data\n",
    "df_GABA_affine_left = pd.DataFrame({\n",
    "    \"pairwise_mean\": left_GABA_affine_pairwise_means,\n",
    "    \"set\": \"Left\"\n",
    "})\n",
    "\n",
    "df_GABA_affine_right = pd.DataFrame({\n",
    "    \"pairwise_mean\": right_GABA_affine_pairwise_means,\n",
    "    \"set\": \"Right\"\n",
    "})\n",
    "\n",
    "df_GABA_affine = pd.concat([df_GABA_affine_left, df_GABA_affine_right], ignore_index=True)\n",
    "\n",
    "df_GABA_diffeo_left = pd.DataFrame({\n",
    "    \"pairwise_mean\": left_GABA_diffeo_pairwise_means,\n",
    "    \"set\": \"Left\"\n",
    "})\n",
    "\n",
    "df_GABA_diffeo_right = pd.DataFrame({\n",
    "    \"pairwise_mean\": right_GABA_diffeo_pairwise_means,\n",
    "    \"set\": \"Right\"\n",
    "})\n",
    "\n",
    "df_GABA_diffeo = pd.concat([df_GABA_diffeo_left, df_GABA_diffeo_right], ignore_index=True)\n"
   ]
  },
  {
   "cell_type": "code",
   "execution_count": 4,
   "id": "d8148201",
   "metadata": {
    "execution": {
     "iopub.execute_input": "2025-09-30T22:36:12.839241Z",
     "iopub.status.busy": "2025-09-30T22:36:12.839151Z",
     "iopub.status.idle": "2025-09-30T22:36:12.842729Z",
     "shell.execute_reply": "2025-09-30T22:36:12.842512Z"
    }
   },
   "outputs": [
    {
     "name": "stderr",
     "output_type": "stream",
     "text": [
      "/Users/lindsey/Documents/GitHub/FrankandLopes2025-RefBrain/.venv/lib/python3.9/site-packages/numpy/core/fromnumeric.py:3504: RuntimeWarning: Mean of empty slice.\n",
      "  return _methods._mean(a, axis=axis, dtype=dtype,\n",
      "/Users/lindsey/Documents/GitHub/FrankandLopes2025-RefBrain/.venv/lib/python3.9/site-packages/numpy/core/_methods.py:129: RuntimeWarning: invalid value encountered in scalar divide\n",
      "  ret = ret.dtype.type(ret / rcount)\n",
      "/Users/lindsey/Documents/GitHub/FrankandLopes2025-RefBrain/.venv/lib/python3.9/site-packages/numpy/core/_methods.py:206: RuntimeWarning: Degrees of freedom <= 0 for slice\n",
      "  ret = _var(a, axis=axis, dtype=dtype, out=out, ddof=ddof,\n",
      "/Users/lindsey/Documents/GitHub/FrankandLopes2025-RefBrain/.venv/lib/python3.9/site-packages/numpy/core/_methods.py:163: RuntimeWarning: invalid value encountered in divide\n",
      "  arrmean = um.true_divide(arrmean, div, out=arrmean,\n",
      "/Users/lindsey/Documents/GitHub/FrankandLopes2025-RefBrain/.venv/lib/python3.9/site-packages/numpy/core/_methods.py:198: RuntimeWarning: invalid value encountered in scalar divide\n",
      "  ret = ret.dtype.type(ret / rcount)\n"
     ]
    }
   ],
   "source": [
    "# Data wrangling for inotocin skeletons \n",
    "\n",
    "# Load and compute pairwise distances for inotocin left and right datasets (affine+rigid and diffeomorphic)\n",
    "left_inotocin_affine_folder = 'skeletons_affine+rigid/inotocin/left/'\n",
    "right_inotocin_affine_folder = 'skeletons_affine+rigid/inotocin/right/'\n",
    "\n",
    "left_inotocin_affine_pairwise_means = compute_pairwise_distances(left_inotocin_affine_folder)\n",
    "right_inotocin_affine_pairwise_means = compute_pairwise_distances(right_inotocin_affine_folder)\n",
    "\n",
    "left_inotocin_diffeo_folder = 'skeletons_diffeomorphic/inotocin/left/'\n",
    "right_inotocin_diffeo_folder = 'skeletons_diffeomorphic/inotocin/right/'\n",
    "\n",
    "left_inotocin_diffeo_pairwise_means = compute_pairwise_distances(left_inotocin_diffeo_folder)\n",
    "right_inotocin_diffeo_pairwise_means = compute_pairwise_distances(right_inotocin_diffeo_folder)\n",
    "\n",
    "# Calculate means and standard deviations\n",
    "mean_inotocin_affine_left = np.mean(left_inotocin_affine_pairwise_means)\n",
    "std_inotocin_affine_left = np.std(left_inotocin_affine_pairwise_means)\n",
    "\n",
    "mean_inotocin_affine_right = np.mean(right_inotocin_affine_pairwise_means)\n",
    "std_inotocin_affine_right = np.std(right_inotocin_affine_pairwise_means)\n",
    "\n",
    "mean_inotocin_diffeo_left = np.mean(left_inotocin_diffeo_pairwise_means)\n",
    "std_inotocin_diffeo_left = np.std(left_inotocin_diffeo_pairwise_means)\n",
    "\n",
    "mean_inotocin_diffeo_right = np.mean(right_inotocin_diffeo_pairwise_means)\n",
    "std_inotocin_diffeo_right = np.std(right_inotocin_diffeo_pairwise_means)\n",
    "\n",
    "# Create a DataFrame to combine both sets of data\n",
    "df_inotocin_affine_left = pd.DataFrame({\n",
    "    \"pairwise_mean\": left_inotocin_affine_pairwise_means,\n",
    "    \"set\": \"Left\"\n",
    "})\n",
    "\n",
    "df_inotocin_affine_right = pd.DataFrame({\n",
    "    \"pairwise_mean\": right_inotocin_affine_pairwise_means,\n",
    "    \"set\": \"Right\"\n",
    "})\n",
    "\n",
    "df_inotocin_affine = pd.concat([df_inotocin_affine_left, df_inotocin_affine_right], ignore_index=True)\n",
    "\n",
    "df_inotocin_diffeo_left = pd.DataFrame({\n",
    "    \"pairwise_mean\": left_inotocin_diffeo_pairwise_means,\n",
    "    \"set\": \"Left\"\n",
    "})\n",
    "\n",
    "df_inotocin_diffeo_right = pd.DataFrame({\n",
    "    \"pairwise_mean\": right_inotocin_diffeo_pairwise_means,\n",
    "    \"set\": \"Right\"\n",
    "})\n",
    "\n",
    "df_inotocin_diffeo = pd.concat([df_inotocin_diffeo_left, df_inotocin_diffeo_right], ignore_index=True)"
   ]
  }
 ],
 "metadata": {
  "kernelspec": {
   "display_name": "Python 3",
   "language": "python",
   "name": "python3"
  },
  "language_info": {
   "codemirror_mode": {
    "name": "ipython",
    "version": 3
   },
   "file_extension": ".py",
   "mimetype": "text/x-python",
   "name": "python",
   "nbconvert_exporter": "python",
   "pygments_lexer": "ipython3",
   "version": "3.9.6"
  }
 },
 "nbformat": 4,
 "nbformat_minor": 5
}
