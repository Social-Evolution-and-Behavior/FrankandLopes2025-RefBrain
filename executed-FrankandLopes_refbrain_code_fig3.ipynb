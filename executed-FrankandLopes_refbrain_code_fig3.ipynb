{
 "cells": [
  {
   "cell_type": "code",
   "execution_count": 1,
   "id": "97250031",
   "metadata": {
    "execution": {
     "iopub.execute_input": "2025-09-30T23:11:52.182846Z",
     "iopub.status.busy": "2025-09-30T23:11:52.182540Z",
     "iopub.status.idle": "2025-09-30T23:11:52.773679Z",
     "shell.execute_reply": "2025-09-30T23:11:52.773334Z"
    }
   },
   "outputs": [],
   "source": [
    "# Import statements\n",
    "\n",
    "import os\n",
    "import numpy as np\n",
    "from scipy.spatial import distance_matrix\n",
    "import glob\n",
    "import seaborn as sns\n",
    "import matplotlib.pyplot as plt\n",
    "import re\n",
    "from scipy.ndimage import distance_transform_edt\n",
    "import matplotlib.pyplot as plt\n",
    "from scipy.stats import ttest_ind\n",
    "from scipy.spatial.distance import cdist\n",
    "import pandas as pd"
   ]
  },
  {
   "cell_type": "code",
   "execution_count": 2,
   "id": "fdd23650",
   "metadata": {
    "execution": {
     "iopub.execute_input": "2025-09-30T23:11:52.774934Z",
     "iopub.status.busy": "2025-09-30T23:11:52.774844Z",
     "iopub.status.idle": "2025-09-30T23:11:52.777823Z",
     "shell.execute_reply": "2025-09-30T23:11:52.777586Z"
    }
   },
   "outputs": [],
   "source": [
    "# Functions\n",
    "\n",
    "# Ensure coordinates are in the correct shape (2D array of shape (n_points, 3))\n",
    "def load_swc_coordinates(file_path):\n",
    "    # Assuming this function loads the SWC data and returns it as a numpy array (n_points, 3)\n",
    "    # The last column might be radius, so we take only the first three columns (x, y, z)\n",
    "    data = np.loadtxt(file_path)\n",
    "    return data[:, 2:5]  # Return only the x, y, z columns\n",
    "\n",
    "def average_bidirectional_distance(A, B):\n",
    "    # Ensure that A and B are 2D arrays\n",
    "    A = np.array(A)\n",
    "    B = np.array(B)\n",
    "    \n",
    "    # Check if the coordinates are 2D arrays\n",
    "    if A.ndim != 2 or B.ndim != 2:\n",
    "        raise ValueError(\"Both A and B should be 2D arrays representing the coordinates (n_points, 3).\")\n",
    "\n",
    "    # Compute pairwise distance matrix between A and B\n",
    "    dists = cdist(A, B)\n",
    "    \n",
    "    # Average distances A->B and B->A\n",
    "    avg_a_to_b = np.mean(np.min(dists, axis=1))  # Minimum distance for each point in A to closest point in B\n",
    "    avg_b_to_a = np.mean(np.min(dists, axis=0))  # Minimum distance for each point in B to closest point in A\n",
    "    \n",
    "    return (avg_a_to_b + avg_b_to_a) / 2\n",
    "\n",
    "def compute_pairwise_distances(swc_folder):\n",
    "    swc_files = glob.glob(os.path.join(swc_folder, '*.swc'))\n",
    "    pairwise_means = []\n",
    "    \n",
    "    # Assuming you have a function to compute pairwise distances (e.g., `average_bidirectional_distance`)\n",
    "    for i, file_i in enumerate(swc_files):\n",
    "        coords_i = load_swc_coordinates(file_i)\n",
    "        for j, file_j in enumerate(swc_files[i + 1:], start=i + 1):\n",
    "            coords_j = load_swc_coordinates(file_j)\n",
    "            pairwise_means.append(average_bidirectional_distance(coords_i, coords_j))\n",
    "    \n",
    "    return pairwise_means\n"
   ]
  },
  {
   "cell_type": "code",
   "execution_count": 3,
   "id": "495fd9d5",
   "metadata": {
    "execution": {
     "iopub.execute_input": "2025-09-30T23:11:52.778786Z",
     "iopub.status.busy": "2025-09-30T23:11:52.778721Z",
     "iopub.status.idle": "2025-09-30T23:11:52.784684Z",
     "shell.execute_reply": "2025-09-30T23:11:52.784447Z"
    }
   },
   "outputs": [
    {
     "name": "stderr",
     "output_type": "stream",
     "text": [
      "/Users/lindsey/Documents/GitHub/FrankandLopes2025-RefBrain/.venv/lib/python3.9/site-packages/numpy/core/fromnumeric.py:3504: RuntimeWarning: Mean of empty slice.\n",
      "  return _methods._mean(a, axis=axis, dtype=dtype,\n",
      "/Users/lindsey/Documents/GitHub/FrankandLopes2025-RefBrain/.venv/lib/python3.9/site-packages/numpy/core/_methods.py:129: RuntimeWarning: invalid value encountered in scalar divide\n",
      "  ret = ret.dtype.type(ret / rcount)\n",
      "/Users/lindsey/Documents/GitHub/FrankandLopes2025-RefBrain/.venv/lib/python3.9/site-packages/numpy/core/_methods.py:206: RuntimeWarning: Degrees of freedom <= 0 for slice\n",
      "  ret = _var(a, axis=axis, dtype=dtype, out=out, ddof=ddof,\n",
      "/Users/lindsey/Documents/GitHub/FrankandLopes2025-RefBrain/.venv/lib/python3.9/site-packages/numpy/core/_methods.py:163: RuntimeWarning: invalid value encountered in divide\n",
      "  arrmean = um.true_divide(arrmean, div, out=arrmean,\n",
      "/Users/lindsey/Documents/GitHub/FrankandLopes2025-RefBrain/.venv/lib/python3.9/site-packages/numpy/core/_methods.py:198: RuntimeWarning: invalid value encountered in scalar divide\n",
      "  ret = ret.dtype.type(ret / rcount)\n"
     ]
    }
   ],
   "source": [
    "## Data wrangling for GABA skeletons\n",
    "\n",
    "# Load and compute pairwise distances for GABA left and right datasets affine+rigid and diffeomorphic\n",
    "left_GABA_affine_folder = 'skeletons_affine+rigid/GABA/left/'\n",
    "right_GABA_affine_folder = 'skeletons_affine+rigid/GABA/right/'\n",
    "\n",
    "left_GABA_affine_pairwise_means = compute_pairwise_distances(left_GABA_affine_folder)\n",
    "right_GABA_affine_pairwise_means = compute_pairwise_distances(right_GABA_affine_folder)\n",
    "\n",
    "left_GABA_diffeo_folder = 'skeletons_diffeomorphic/GABA/left/'\n",
    "right_GABA_diffeo_folder = 'skeletons_diffeomorphic/GABA/right/'\n",
    "\n",
    "left_GABA_diffeo_pairwise_means = compute_pairwise_distances(left_GABA_diffeo_folder)\n",
    "right_GABA_diffeo_pairwise_means = compute_pairwise_distances(right_GABA_diffeo_folder)\n",
    "\n",
    "# Calculate means and standard deviations\n",
    "mean_GABA_affine_left = np.mean(left_GABA_affine_pairwise_means)\n",
    "std_GABA_affine_left = np.std(left_GABA_affine_pairwise_means)\n",
    "\n",
    "mean_GABA_affine_right = np.mean(right_GABA_affine_pairwise_means)\n",
    "std_GABA_affine_right = np.std(right_GABA_affine_pairwise_means)\n",
    "\n",
    "mean_GABA_diffeo_left = np.mean(left_GABA_diffeo_pairwise_means)\n",
    "std_GABA_diffeo_left = np.std(left_GABA_diffeo_pairwise_means)\n",
    "\n",
    "mean_GABA_diffeo_right = np.mean(right_GABA_diffeo_pairwise_means)\n",
    "std_GABA_diffeo_right = np.std(right_GABA_diffeo_pairwise_means)\n",
    "\n",
    "# Create a DataFrame to combine both sets of data\n",
    "df_GABA_affine_left = pd.DataFrame({\n",
    "    \"pairwise_mean\": left_GABA_affine_pairwise_means,\n",
    "    \"set\": \"Left\"\n",
    "})\n",
    "\n",
    "df_GABA_affine_right = pd.DataFrame({\n",
    "    \"pairwise_mean\": right_GABA_affine_pairwise_means,\n",
    "    \"set\": \"Right\"\n",
    "})\n",
    "\n",
    "df_GABA_affine = pd.concat([df_GABA_affine_left, df_GABA_affine_right], ignore_index=True)\n",
    "\n",
    "df_GABA_diffeo_left = pd.DataFrame({\n",
    "    \"pairwise_mean\": left_GABA_diffeo_pairwise_means,\n",
    "    \"set\": \"Left\"\n",
    "})\n",
    "\n",
    "df_GABA_diffeo_right = pd.DataFrame({\n",
    "    \"pairwise_mean\": right_GABA_diffeo_pairwise_means,\n",
    "    \"set\": \"Right\"\n",
    "})\n",
    "\n",
    "df_GABA_diffeo = pd.concat([df_GABA_diffeo_left, df_GABA_diffeo_right], ignore_index=True)\n"
   ]
  },
  {
   "cell_type": "code",
   "execution_count": 4,
   "id": "91c8b1e2",
   "metadata": {
    "execution": {
     "iopub.execute_input": "2025-09-30T23:11:52.785700Z",
     "iopub.status.busy": "2025-09-30T23:11:52.785614Z",
     "iopub.status.idle": "2025-09-30T23:11:53.052706Z",
     "shell.execute_reply": "2025-09-30T23:11:53.052468Z"
    }
   },
   "outputs": [
    {
     "name": "stderr",
     "output_type": "stream",
     "text": [
      "posx and posy should be finite values\n"
     ]
    },
    {
     "name": "stderr",
     "output_type": "stream",
     "text": [
      "posx and posy should be finite values\n"
     ]
    },
    {
     "name": "stderr",
     "output_type": "stream",
     "text": [
      "posx and posy should be finite values\n"
     ]
    },
    {
     "name": "stdout",
     "output_type": "stream",
     "text": [
      "Series([], Name: pairwise_mean, dtype: float64)\n",
      "Series([], Name: pairwise_mean, dtype: float64)\n"
     ]
    },
    {
     "name": "stderr",
     "output_type": "stream",
     "text": [
      "posx and posy should be finite values\n"
     ]
    },
    {
     "name": "stderr",
     "output_type": "stream",
     "text": [
      "The PostScript backend does not support transparency; partially transparent artists will be rendered opaque.\n"
     ]
    },
    {
     "name": "stderr",
     "output_type": "stream",
     "text": [
      "posx and posy should be finite values\n"
     ]
    },
    {
     "name": "stderr",
     "output_type": "stream",
     "text": [
      "posx and posy should be finite values\n"
     ]
    }
   ],
   "source": [
    "## Generating Figure 3G -- GABA skeleton distance\n",
    "\n",
    "# make single df\n",
    "df_GABA_affine['Registration'] = 'affine+rigid'\n",
    "df_GABA_diffeo['Registration'] = 'diffeomorphic'\n",
    "df_GABA = pd.concat([df_GABA_affine, df_GABA_diffeo], ignore_index=True)\n",
    "\n",
    "# add jitter\n",
    "np.random.seed(321)\n",
    "df_GABA['x_jitter'] = df_GABA['Registration'].map({\n",
    "    'affine+rigid': lambda: 0 + np.random.uniform(-0.15, 0.15),\n",
    "    'diffeomorphic': lambda: 1 + np.random.uniform(-0.15, 0.15)\n",
    "}).apply(lambda f: f())\n",
    "\n",
    "# Compute group means and stds\n",
    "means = df_GABA.groupby('Registration')['pairwise_mean'].mean()\n",
    "medians = df_GABA.groupby('Registration')['pairwise_mean'].median()\n",
    "\n",
    "stds = df_GABA.groupby('Registration')['pairwise_mean'].std()\n",
    "\n",
    "print(means)\n",
    "print(stds)\n",
    "\n",
    "from scipy.stats import ttest_ind\n",
    "\n",
    "# Extract values\n",
    "affine_vals = df_GABA[df_GABA['Registration'] == 'affine+rigid']['pairwise_mean']\n",
    "diffeo_vals = df_GABA[df_GABA['Registration'] == 'diffeomorphic']['pairwise_mean']\n",
    "\n",
    "# Two-sample t-test (Welch’s by default: unequal variances)\n",
    "t_stat, p_val = ttest_ind(affine_vals, diffeo_vals, equal_var=False)\n",
    "\n",
    "\n",
    "# Plot\n",
    "plt.figure(figsize=(6, 6))\n",
    "\n",
    "# Custom colors per registration type\n",
    "colors = {'affine+rigid': 'lime', 'diffeomorphic': 'lime'}\n",
    "\n",
    "# Plot each group separately\n",
    "for i, reg in enumerate(['affine+rigid', 'diffeomorphic']):\n",
    "    subset = df_GABA[df_GABA['Registration'] == reg]\n",
    "    plt.scatter(\n",
    "        subset['x_jitter'], subset['pairwise_mean'],\n",
    "        facecolors=colors[reg], edgecolors='black', linewidth=1.5, alpha=0.8, s=80\n",
    "    )\n",
    "    # Mean line\n",
    "    med_val = medians.get(reg, np.nan) if hasattr(medians,'get') else (medians[reg] if reg in medians.index else np.nan)\n",
    "    std_val = stds.get(reg, np.nan) if hasattr(stds,'get') else (stds[reg] if reg in stds.index else np.nan)\n",
    "    if not np.isnan(med_val):\n",
    "        plt.hlines(med_val, xmin=i - 0.2, xmax=i + 0.2, colors='black', linewidth=5)\n",
    "    # Std error bars\n",
    "    # errorbar replaced with safe lookup\n",
    "    if not np.isnan(std_val):\n",
    "        plt.errorbar(x=i, y=med_val, yerr=std_val, fmt='none',\n",
    "                 ecolor='black', linewidth=3, capsize=0)\n",
    "\n",
    "\n",
    "# Annotate p-value\n",
    "max_val = df_GABA['pairwise_mean'].max()\n",
    "y_annotation = max_val + (0.05 * max_val)\n",
    "plt.plot([0, 1], [y_annotation]*2, color='black', linewidth=1)\n",
    "plt.text(0.5, y_annotation + 0.02 * max_val,\n",
    "         f\"p = {p_val:.3g}\" if p_val >= 0.001 else \"p < 0.001\",\n",
    "         ha='center', va='bottom', fontsize=12)\n",
    "\n",
    "# X-axis labels\n",
    "plt.xticks([0, 1], ['affine+rigid', 'diffeomorphic'])\n",
    "plt.xlim(-0.5, 1.5)\n",
    "plt.ylim(0,35)\n",
    "plt.ylabel(\"Mean Pairwise Distance (units)\")\n",
    "\n",
    "\n",
    "# Keep only x and y axis \n",
    "sns.despine(top=True, right=True)\n",
    "\n",
    "plt.tight_layout()\n",
    "\n",
    "plt.savefig(\"Fig3E_GABAskeletondistance.png\", format='png', dpi=600)\n",
    "plt.savefig(\"Fig3E_GABAskeletondistance.eps\", format='eps', dpi=300)\n",
    "\n",
    "# headless: plt.show() removed\n"
   ]
  },
  {
   "cell_type": "code",
   "execution_count": 5,
   "id": "d8148201",
   "metadata": {
    "execution": {
     "iopub.execute_input": "2025-09-30T23:11:53.053827Z",
     "iopub.status.busy": "2025-09-30T23:11:53.053749Z",
     "iopub.status.idle": "2025-09-30T23:11:53.057969Z",
     "shell.execute_reply": "2025-09-30T23:11:53.057766Z"
    }
   },
   "outputs": [
    {
     "name": "stderr",
     "output_type": "stream",
     "text": [
      "/Users/lindsey/Documents/GitHub/FrankandLopes2025-RefBrain/.venv/lib/python3.9/site-packages/numpy/core/fromnumeric.py:3504: RuntimeWarning: Mean of empty slice.\n",
      "  return _methods._mean(a, axis=axis, dtype=dtype,\n",
      "/Users/lindsey/Documents/GitHub/FrankandLopes2025-RefBrain/.venv/lib/python3.9/site-packages/numpy/core/_methods.py:129: RuntimeWarning: invalid value encountered in scalar divide\n",
      "  ret = ret.dtype.type(ret / rcount)\n",
      "/Users/lindsey/Documents/GitHub/FrankandLopes2025-RefBrain/.venv/lib/python3.9/site-packages/numpy/core/_methods.py:206: RuntimeWarning: Degrees of freedom <= 0 for slice\n",
      "  ret = _var(a, axis=axis, dtype=dtype, out=out, ddof=ddof,\n",
      "/Users/lindsey/Documents/GitHub/FrankandLopes2025-RefBrain/.venv/lib/python3.9/site-packages/numpy/core/_methods.py:163: RuntimeWarning: invalid value encountered in divide\n",
      "  arrmean = um.true_divide(arrmean, div, out=arrmean,\n",
      "/Users/lindsey/Documents/GitHub/FrankandLopes2025-RefBrain/.venv/lib/python3.9/site-packages/numpy/core/_methods.py:198: RuntimeWarning: invalid value encountered in scalar divide\n",
      "  ret = ret.dtype.type(ret / rcount)\n"
     ]
    }
   ],
   "source": [
    "# Data wrangling for inotocin skeletons \n",
    "\n",
    "# Load and compute pairwise distances for inotocin left and right datasets (affine+rigid and diffeomorphic)\n",
    "left_inotocin_affine_folder = 'skeletons_affine+rigid/inotocin/left/'\n",
    "right_inotocin_affine_folder = 'skeletons_affine+rigid/inotocin/right/'\n",
    "\n",
    "left_inotocin_affine_pairwise_means = compute_pairwise_distances(left_inotocin_affine_folder)\n",
    "right_inotocin_affine_pairwise_means = compute_pairwise_distances(right_inotocin_affine_folder)\n",
    "\n",
    "left_inotocin_diffeo_folder = 'skeletons_diffeomorphic/inotocin/left/'\n",
    "right_inotocin_diffeo_folder = 'skeletons_diffeomorphic/inotocin/right/'\n",
    "\n",
    "left_inotocin_diffeo_pairwise_means = compute_pairwise_distances(left_inotocin_diffeo_folder)\n",
    "right_inotocin_diffeo_pairwise_means = compute_pairwise_distances(right_inotocin_diffeo_folder)\n",
    "\n",
    "# Calculate means and standard deviations\n",
    "mean_inotocin_affine_left = np.mean(left_inotocin_affine_pairwise_means)\n",
    "std_inotocin_affine_left = np.std(left_inotocin_affine_pairwise_means)\n",
    "\n",
    "mean_inotocin_affine_right = np.mean(right_inotocin_affine_pairwise_means)\n",
    "std_inotocin_affine_right = np.std(right_inotocin_affine_pairwise_means)\n",
    "\n",
    "mean_inotocin_diffeo_left = np.mean(left_inotocin_diffeo_pairwise_means)\n",
    "std_inotocin_diffeo_left = np.std(left_inotocin_diffeo_pairwise_means)\n",
    "\n",
    "mean_inotocin_diffeo_right = np.mean(right_inotocin_diffeo_pairwise_means)\n",
    "std_inotocin_diffeo_right = np.std(right_inotocin_diffeo_pairwise_means)\n",
    "\n",
    "# Create a DataFrame to combine both sets of data\n",
    "df_inotocin_affine_left = pd.DataFrame({\n",
    "    \"pairwise_mean\": left_inotocin_affine_pairwise_means,\n",
    "    \"set\": \"Left\"\n",
    "})\n",
    "\n",
    "df_inotocin_affine_right = pd.DataFrame({\n",
    "    \"pairwise_mean\": right_inotocin_affine_pairwise_means,\n",
    "    \"set\": \"Right\"\n",
    "})\n",
    "\n",
    "df_inotocin_affine = pd.concat([df_inotocin_affine_left, df_inotocin_affine_right], ignore_index=True)\n",
    "\n",
    "df_inotocin_diffeo_left = pd.DataFrame({\n",
    "    \"pairwise_mean\": left_inotocin_diffeo_pairwise_means,\n",
    "    \"set\": \"Left\"\n",
    "})\n",
    "\n",
    "df_inotocin_diffeo_right = pd.DataFrame({\n",
    "    \"pairwise_mean\": right_inotocin_diffeo_pairwise_means,\n",
    "    \"set\": \"Right\"\n",
    "})\n",
    "\n",
    "df_inotocin_diffeo = pd.concat([df_inotocin_diffeo_left, df_inotocin_diffeo_right], ignore_index=True)"
   ]
  },
  {
   "cell_type": "code",
   "execution_count": 6,
   "id": "3251c41d",
   "metadata": {
    "execution": {
     "iopub.execute_input": "2025-09-30T23:11:53.058999Z",
     "iopub.status.busy": "2025-09-30T23:11:53.058909Z",
     "iopub.status.idle": "2025-09-30T23:11:53.229967Z",
     "shell.execute_reply": "2025-09-30T23:11:53.229735Z"
    }
   },
   "outputs": [
    {
     "name": "stderr",
     "output_type": "stream",
     "text": [
      "posx and posy should be finite values\n"
     ]
    },
    {
     "name": "stderr",
     "output_type": "stream",
     "text": [
      "posx and posy should be finite values\n"
     ]
    },
    {
     "name": "stderr",
     "output_type": "stream",
     "text": [
      "posx and posy should be finite values\n"
     ]
    },
    {
     "name": "stderr",
     "output_type": "stream",
     "text": [
      "posx and posy should be finite values\n"
     ]
    },
    {
     "name": "stderr",
     "output_type": "stream",
     "text": [
      "The PostScript backend does not support transparency; partially transparent artists will be rendered opaque.\n"
     ]
    },
    {
     "name": "stderr",
     "output_type": "stream",
     "text": [
      "posx and posy should be finite values\n"
     ]
    },
    {
     "name": "stderr",
     "output_type": "stream",
     "text": [
      "posx and posy should be finite values\n"
     ]
    },
    {
     "name": "stdout",
     "output_type": "stream",
     "text": [
      "Series([], Name: pairwise_mean, dtype: float64)\n",
      "Series([], Name: pairwise_mean, dtype: float64)\n"
     ]
    }
   ],
   "source": [
    "# Generating Fig 3F -- inotocin skeleton distance \n",
    "\n",
    "# Make single DataFrame\n",
    "df_inotocin_affine['Registration'] = 'affine+rigid'\n",
    "df_inotocin_diffeo['Registration'] = 'diffeomorphic'\n",
    "\n",
    "df_inotocin = pd.concat([df_inotocin_affine, df_inotocin_diffeo], ignore_index=True)\n",
    "\n",
    "# Add jitter\n",
    "np.random.seed(321)\n",
    "df_inotocin['x_jitter'] = df_inotocin['Registration'].map({\n",
    "    'affine+rigid': lambda: 0 + np.random.uniform(-0.15, 0.15),\n",
    "    'diffeomorphic': lambda: 1 + np.random.uniform(-0.15, 0.15)\n",
    "}).apply(lambda f: f())\n",
    "\n",
    "# Compute group means and stds\n",
    "means = df_inotocin.groupby('Registration')['pairwise_mean'].mean()\n",
    "medians = df_inotocin.groupby('Registration')['pairwise_mean'].median()\n",
    "\n",
    "stds = df_inotocin.groupby('Registration')['pairwise_mean'].std()\n",
    "\n",
    "# Extract values for t-test\n",
    "affine_vals = df_inotocin[df_inotocin['Registration'] == 'affine+rigid']['pairwise_mean']\n",
    "diffeo_vals = df_inotocin[df_inotocin['Registration'] == 'diffeomorphic']['pairwise_mean']\n",
    "\n",
    "# Two-sample t-test\n",
    "t_stat, p_val = ttest_ind(affine_vals, diffeo_vals, equal_var=False)\n",
    "\n",
    "print(means)\n",
    "print(stds)\n",
    "\n",
    "# Plot\n",
    "plt.figure(figsize=(6, 6))\n",
    "colors = {'affine+rigid': 'cyan', 'diffeomorphic': 'cyan'}\n",
    "\n",
    "# Plot each group\n",
    "for i, reg in enumerate(['affine+rigid', 'diffeomorphic']):\n",
    "    subset = df_inotocin[df_inotocin['Registration'] == reg]\n",
    "    plt.scatter(\n",
    "        subset['x_jitter'], subset['pairwise_mean'],\n",
    "        facecolors=colors[reg], edgecolors='black', linewidth=1.5, alpha=0.8, s=80\n",
    "    )\n",
    "    # Mean line\n",
    "    med_val = medians.get(reg, np.nan) if hasattr(medians,'get') else (medians[reg] if reg in medians.index else np.nan)\n",
    "    std_val = stds.get(reg, np.nan) if hasattr(stds,'get') else (stds[reg] if reg in stds.index else np.nan)\n",
    "    if not np.isnan(med_val):\n",
    "        plt.hlines(med_val, xmin=i - 0.2, xmax=i + 0.2, colors='black', linewidth=5)\n",
    "    # Std error bars\n",
    "    # errorbar replaced with safe lookup\n",
    "    if not np.isnan(std_val):\n",
    "        plt.errorbar(x=i, y=med_val, yerr=std_val, fmt='none',\n",
    "                 ecolor='black', linewidth=3, capsize=0)\n",
    "\n",
    "# Annotate p-value\n",
    "max_val = df_inotocin['pairwise_mean'].max()\n",
    "y_annotation = max_val + (0.05 * max_val)\n",
    "plt.plot([0, 1], [y_annotation]*2, color='black', linewidth=1)\n",
    "plt.text(0.5, y_annotation + 0.02 * max_val,\n",
    "         f\"p = {p_val:.3g}\" if p_val >= 0.001 else \"p < 0.001\",\n",
    "         ha='center', va='bottom', fontsize=12)\n",
    "\n",
    "# Labels and limits\n",
    "plt.xticks([0, 1], ['affine+rigid', 'diffeomorphic'])\n",
    "plt.xlim(-0.5, 1.5)\n",
    "plt.ylabel(\"Mean Pairwise Distance (units)\")\n",
    "plt.ylim(0, 120)\n",
    "\n",
    "\n",
    "# Keep only x and y axis \n",
    "sns.despine(top=True, right=True)\n",
    "\n",
    "plt.tight_layout()\n",
    "\n",
    "# Save plot\n",
    "plt.savefig(\"Fig3F_inotocinskeletondistance.png\", format='png', dpi=600)\n",
    "plt.savefig(\"Fig3F_inotocinskeletondistance.eps\", format='eps', dpi=300)\n",
    "\n",
    "# headless: plt.show() removed\n"
   ]
  }
 ],
 "metadata": {
  "kernelspec": {
   "display_name": "Python 3",
   "language": "python",
   "name": "python3"
  },
  "language_info": {
   "codemirror_mode": {
    "name": "ipython",
    "version": 3
   },
   "file_extension": ".py",
   "mimetype": "text/x-python",
   "name": "python",
   "nbconvert_exporter": "python",
   "pygments_lexer": "ipython3",
   "version": "3.9.6"
  }
 },
 "nbformat": 4,
 "nbformat_minor": 5
}
